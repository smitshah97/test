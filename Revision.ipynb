{
 "cells": [
  {
   "cell_type": "markdown",
   "metadata": {},
   "source": [
    "# Logical Operators"
   ]
  },
  {
   "cell_type": "markdown",
   "metadata": {},
   "source": [
    "Logical operators are used to operate on boolean values\n",
    "1) and -- a) the and operator is used on operate on two boolean values\n",
    "          b) The and operator gives a result of True, only if both the boolean values are equal to True. Otherwise, it will give a result of False\n",
    "2) or  -- a) the or operator is used to operate on two boolean values\n",
    "          b) The or operator gives a result of True, if atleast one of the two boolean values is equal to True. Otherwise, it will give a result of False\n",
    "3) not -- a) the not operator is used to operate on 1 boolean value\n",
    "          b) The not operator gives the opposite of the specified boolean value"
   ]
  },
  {
   "cell_type": "markdown",
   "metadata": {},
   "source": [
    "# ConTrol Statements"
   ]
  },
  {
   "cell_type": "code",
   "execution_count": null,
   "metadata": {},
   "outputs": [],
   "source": [
    "Control Statements are used to control the flow of code execution"
   ]
  },
  {
   "cell_type": "code",
   "execution_count": null,
   "metadata": {},
   "outputs": [],
   "source": [
    "In one code structure only one block of code will execute"
   ]
  },
  {
   "cell_type": "markdown",
   "metadata": {},
   "source": [
    "1) if   -- a) the if statement is mandatory\n",
    "           b) The if statement can only be written once\n",
    "           c) The blockOfCode in the if statement will execute only if the booleanValue next to the if keyword is equal to True\n",
    "2) elif -- a) the elif statement is not mandatory\n",
    "           b) The elif statement can be written multiple times\n",
    "           c) The blockOfCode in the elif statement will execute only if the booleanValue next to the elif keyword is equal to True\n",
    "3) else -- a) the else statement is not mandatory\n",
    "           b) The else statement can only be written once\n",
    "           c) The blockOfCode in the else statement will execute only if none of the previous blocks of codes have been executed."
   ]
  },
  {
   "cell_type": "code",
   "execution_count": null,
   "metadata": {},
   "outputs": [],
   "source": [
    "syntax for if statement\n",
    "\n",
    "if booleanValue:\n",
    "    #blockOfCode"
   ]
  },
  {
   "cell_type": "code",
   "execution_count": null,
   "metadata": {},
   "outputs": [],
   "source": [
    "syntax for elif statement\n",
    "\n",
    "elif booleanValue:\n",
    "    #blockOfCode"
   ]
  },
  {
   "cell_type": "code",
   "execution_count": null,
   "metadata": {},
   "outputs": [],
   "source": [
    "syntax for else statement\n",
    "\n",
    "else:\n",
    "    #blockOfCode"
   ]
  },
  {
   "cell_type": "markdown",
   "metadata": {},
   "source": [
    "# List and Tuple"
   ]
  },
  {
   "cell_type": "markdown",
   "metadata": {},
   "source": [
    "Similarities between list and tuple:\n",
    "1) List is a collection of values. Tuple is also a collection of values\n",
    "2) In a list we can store any type of values. In a tuple also we can store any type of values\n",
    "3) In a list, each value has a index(positive, negative) associated with it. Similarly, in a tuple also each value has a index(positive, negative) associated with it."
   ]
  },
  {
   "cell_type": "markdown",
   "metadata": {},
   "source": [
    "Diffrences between list and tuple:\n",
    "1) List is mutable. While tuple is immutable\n",
    "2) The collection of values in alist, need to be surrounded by square brackets. While the collection of values in atuple need to be surrounded by curved brackets.\n",
    "3) In a list, only if we have more than one value in the collection, we need to use comma in the code. Whereas, in a tuple, if we have more than or equal to one value in the collection, we need to use comma in the code."
   ]
  },
  {
   "cell_type": "markdown",
   "metadata": {},
   "source": [
    "# Loops"
   ]
  },
  {
   "cell_type": "code",
   "execution_count": null,
   "metadata": {},
   "outputs": [],
   "source": [
    "1) for loop\n",
    "2) while loop"
   ]
  },
  {
   "cell_type": "code",
   "execution_count": null,
   "metadata": {},
   "outputs": [],
   "source": [
    "syntax for creating for loop\n",
    "\n",
    "\n",
    "for variableName in collection:\n",
    "    #blockOfCode"
   ]
  },
  {
   "cell_type": "markdown",
   "metadata": {},
   "source": [
    "NOTE: The blockOfCode in the for loop, will only execute only if the variable next to the for keyword has a new value assigned to it."
   ]
  },
  {
   "cell_type": "code",
   "execution_count": null,
   "metadata": {},
   "outputs": [],
   "source": []
  },
  {
   "cell_type": "code",
   "execution_count": null,
   "metadata": {},
   "outputs": [],
   "source": []
  },
  {
   "cell_type": "code",
   "execution_count": null,
   "metadata": {},
   "outputs": [],
   "source": [
    "syntax for creating while loop\n",
    "\n",
    "\n",
    "while booleanValue:\n",
    "    #blockOfCode"
   ]
  },
  {
   "cell_type": "markdown",
   "metadata": {},
   "source": [
    "NOTE: The blockOfCode in the while loop, will only execute only if the booleanValue next to the while keyword has a True value assigned to it."
   ]
  },
  {
   "cell_type": "markdown",
   "metadata": {},
   "source": [
    "# Error Handling Statements:"
   ]
  },
  {
   "cell_type": "markdown",
   "metadata": {},
   "source": [
    "1) try      --- a) the try statement is mandatory\n",
    "                b) the code execution first always goes in the blockOfCode of the try statement\n",
    "                c) We should put that code in the try statement, only which we ahve doubt, that it can result in a error\n",
    "                d) The try statement cannot be alone. It has to be accompanied by other error handling statements\n",
    "2) except   --- a) the except statement is not mandatory\n",
    "                b) the code execution will go in the blockOfCode of the except statement, only if there is a error in the try statement\n",
    "                c) The code that we want to execute if there is a error in the try statement, such code need to be put in the blockOfCode of the except statement\n",
    "3) else     --- a) the else statement is not mandatory\n",
    "                b) the code execution will go in the blockOfCode of the else statement, only if there is no error in the try statement\n",
    "                c) The code that we want to execute if there is no error in the try statement, such code need to be put in the blockOfCode of the else statement\n",
    "                d) The else statement can only be written only if there is a except statement present\n",
    "4) finally  --- a) the finally statement is not mandatory\n",
    "                b) the code execution will go in the blockOfCode of the finally statement, no matter what happens in the try statement\n",
    "                c) The code that we want to execute no matter what happens in the try statement, such code need to be put in the blockOfCode of the finally statement"
   ]
  },
  {
   "cell_type": "code",
   "execution_count": null,
   "metadata": {},
   "outputs": [],
   "source": [
    "syntax for creating the try statement\n",
    "\n",
    "try:\n",
    "    #blockOfCode"
   ]
  },
  {
   "cell_type": "code",
   "execution_count": null,
   "metadata": {},
   "outputs": [],
   "source": [
    "syntax for creating the except statement\n",
    "\n",
    "except:\n",
    "    #blockOfCode"
   ]
  },
  {
   "cell_type": "code",
   "execution_count": null,
   "metadata": {},
   "outputs": [],
   "source": [
    "syntax for creating the except statement\n",
    "\n",
    "else:\n",
    "    #blockOfCode"
   ]
  },
  {
   "cell_type": "code",
   "execution_count": null,
   "metadata": {},
   "outputs": [],
   "source": [
    "syntax for creating the except statement\n",
    "\n",
    "finally:\n",
    "    #blockOfCode"
   ]
  }
 ],
 "metadata": {
  "kernelspec": {
   "display_name": "Python 3",
   "language": "python",
   "name": "python3"
  },
  "language_info": {
   "codemirror_mode": {
    "name": "ipython",
    "version": 3
   },
   "file_extension": ".py",
   "mimetype": "text/x-python",
   "name": "python",
   "nbconvert_exporter": "python",
   "pygments_lexer": "ipython3",
   "version": "3.8.3"
  }
 },
 "nbformat": 4,
 "nbformat_minor": 4
}
